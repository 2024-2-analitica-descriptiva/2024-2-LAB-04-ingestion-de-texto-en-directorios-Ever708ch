{
 "cells": [
  {
   "cell_type": "code",
   "execution_count": 2,
   "metadata": {},
   "outputs": [
    {
     "name": "stdout",
     "output_type": "stream",
     "text": [
      "Datos estructurados guardados en train_dataset.csv\n",
      "Datos estructurados guardados en test_dataset.csv\n"
     ]
    }
   ],
   "source": [
    "import os\n",
    "import pandas as pd\n",
    "\n",
    "def process_text_folders(base_path, output_csv):\n",
    "    \"\"\"\n",
    "    Lee carpetas con archivos .txt y organiza su contenido en un DataFrame.\n",
    "    Cada carpeta se toma como un 'target', y los datos se almacenan en un CSV con columnas `phrase` y `target`.\n",
    "\n",
    "    Args:\n",
    "    - base_path (str): Ruta principal con carpetas (negative, neutral, positive, etc.).\n",
    "    - output_csv (str): Nombre del archivo CSV de salida.\n",
    "\n",
    "    Returns:\n",
    "    - None\n",
    "    \"\"\"\n",
    "    # Lista para almacenar las filas de datos\n",
    "    data = []\n",
    "    \n",
    "    # Recorrer las carpetas dentro de la ruta base\n",
    "    for folder in os.listdir(base_path):\n",
    "        folder_path = os.path.join(base_path, folder)\n",
    "        if os.path.isdir(folder_path):  # Verificar si es una carpeta\n",
    "            target = folder  # El nombre de la carpeta será el valor de `target`\n",
    "            for filename in os.listdir(folder_path):\n",
    "                if filename.endswith(\".txt\"):  # Procesar solo archivos .txt\n",
    "                    file_path = os.path.join(folder_path, filename)\n",
    "                    with open(file_path, \"r\", encoding=\"utf-8\") as file:\n",
    "                        line = file.readline().strip()  # Leer la primera línea y eliminar espacios\n",
    "                        if line:  # Solo agregar si la línea no está vacía\n",
    "                            data.append({\"phrase\": line, \"target\": target})\n",
    "\n",
    "    # Crear el DataFrame organizado con columnas en orden\n",
    "    df = pd.DataFrame(data, columns=[\"phrase\", \"target\"])\n",
    "\n",
    "    # Guardar en un archivo CSV\n",
    "    df.to_csv(output_csv, index=False, encoding=\"utf-8\")\n",
    "    print(f\"Datos estructurados guardados en {output_csv}\")\n",
    "\n",
    "\n",
    "# Procesar la carpeta \"train\" y generar \"train_dataset.csv\"\n",
    "train_base_path = \"../files/input/train\"\n",
    "train_output_csv = \"train_dataset.csv\"\n",
    "process_text_folders(train_base_path, train_output_csv)\n",
    "\n",
    "# Procesar la carpeta \"test\" y generar \"test_dataset.csv\"\n",
    "test_base_path = \"../files/input/test\"\n",
    "test_output_csv = \"test_dataset.csv\"\n",
    "process_text_folders(test_base_path, test_output_csv)\n"
   ]
  },
  {
   "cell_type": "code",
   "execution_count": 1,
   "metadata": {},
   "outputs": [
    {
     "name": "stdout",
     "output_type": "stream",
     "text": [
      "Datos estructurados guardados en train_dataset.csv\n"
     ]
    }
   ],
   "source": [
    "import os\n",
    "import pandas as pd\n",
    "\n",
    "def process_text_folders(base_path, output_csv):\n",
    "    \"\"\"\n",
    "    Lee carpetas con archivos .txt y organiza su contenido en un DataFrame.\n",
    "    Cada carpeta se toma como un 'target', y los datos se almacenan en un CSV con columnas `phrase` y `target`.\n",
    "\n",
    "    Args:\n",
    "    - base_path (str): Ruta principal con carpetas (negative, neutral, positive, etc.).\n",
    "    - output_csv (str): Nombre del archivo CSV de salida.\n",
    "\n",
    "    Returns:\n",
    "    - None\n",
    "    \"\"\"\n",
    "    # Lista para almacenar las filas de datos\n",
    "    data = []\n",
    "    \n",
    "    # Recorrer las carpetas dentro de la ruta base\n",
    "    for folder in os.listdir(base_path):\n",
    "        folder_path = os.path.join(base_path, folder)\n",
    "        if os.path.isdir(folder_path):  # Verificar si es una carpeta\n",
    "            target = folder  # El nombre de la carpeta será el valor de `target`\n",
    "            for filename in os.listdir(folder_path):\n",
    "                if filename.endswith(\".txt\"):  # Procesar solo archivos .txt\n",
    "                    file_path = os.path.join(folder_path, filename)\n",
    "                    with open(file_path, \"r\", encoding=\"utf-8\") as file:\n",
    "                        line = file.readline().strip()  # Leer la primera línea y eliminar espacios\n",
    "                        if line:  # Solo agregar si la línea no está vacía\n",
    "                            data.append({\"phrase\": line, \"target\": target})\n",
    "\n",
    "    # Crear el DataFrame organizado con columnas en orden\n",
    "    df = pd.DataFrame(data, columns=[\"phrase\", \"target\"])\n",
    "\n",
    "    # Guardar en un archivo CSV\n",
    "    df.to_csv(output_csv, index=False, encoding=\"utf-8\")\n",
    "    print(f\"Datos estructurados guardados en {output_csv}\")\n",
    "\n",
    "# Ruta principal que contiene las carpetas con archivos\n",
    "base_path = \"../files/input/train\"\n",
    "\n",
    "# Nombre del archivo CSV de salida\n",
    "output_csv = \"train_dataset.csv\"\n",
    "\n",
    "# Ejecutar la función\n",
    "process_text_folders(base_path, output_csv)\n"
   ]
  },
  {
   "cell_type": "code",
   "execution_count": 16,
   "metadata": {},
   "outputs": [
    {
     "name": "stdout",
     "output_type": "stream",
     "text": [
      "Datos estructurados guardados en test_dataset.csv\n"
     ]
    }
   ],
   "source": [
    "import os\n",
    "import pandas as pd\n",
    "\n",
    "def process_text_folders(base_path, output_csv):\n",
    "    \"\"\"\n",
    "    Lee carpetas con archivos .txt y organiza su contenido en un DataFrame.\n",
    "    Cada carpeta se toma como un 'target', y los datos se almacenan en un CSV con columnas `phrase` y `target`.\n",
    "\n",
    "    Args:\n",
    "    - base_path (str): Ruta principal con carpetas (negative, neutral, positive, etc.).\n",
    "    - output_csv (str): Nombre del archivo CSV de salida.\n",
    "\n",
    "    Returns:\n",
    "    - None\n",
    "    \"\"\"\n",
    "    # Lista para almacenar las filas de datos\n",
    "    data = []\n",
    "    \n",
    "    # Recorrer las carpetas dentro de la ruta base\n",
    "    for folder in os.listdir(base_path):\n",
    "        folder_path = os.path.join(base_path, folder)\n",
    "        if os.path.isdir(folder_path):  # Verificar si es una carpeta\n",
    "            target = folder  # El nombre de la carpeta será el valor de `target`\n",
    "            for filename in os.listdir(folder_path):\n",
    "                if filename.endswith(\".txt\"):  # Procesar solo archivos .txt\n",
    "                    file_path = os.path.join(folder_path, filename)\n",
    "                    with open(file_path, \"r\", encoding=\"utf-8\") as file:\n",
    "                        line = file.readline().strip()  # Leer la primera línea y eliminar espacios\n",
    "                        if line:  # Solo agregar si la línea no está vacía\n",
    "                            data.append({\"phrase\": line, \"target\": target})\n",
    "\n",
    "    # Crear el DataFrame organizado con columnas en orden\n",
    "    df = pd.DataFrame(data, columns=[\"phrase\", \"target\"])\n",
    "\n",
    "    # Guardar en un archivo CSV\n",
    "    df.to_csv(output_csv, index=False, encoding=\"utf-8\")\n",
    "    print(f\"Datos estructurados guardados en {output_csv}\")\n",
    "\n",
    "# Ruta principal que contiene las carpetas con archivos\n",
    "base_path = \"../files/input/test\"\n",
    "\n",
    "# Nombre del archivo CSV de salida\n",
    "output_csv = \"test_dataset.csv\"\n",
    "\n",
    "# Ejecutar la función\n",
    "process_text_folders(base_path, output_csv)\n"
   ]
  }
 ],
 "metadata": {
  "kernelspec": {
   "display_name": ".venv",
   "language": "python",
   "name": "python3"
  },
  "language_info": {
   "codemirror_mode": {
    "name": "ipython",
    "version": 3
   },
   "file_extension": ".py",
   "mimetype": "text/x-python",
   "name": "python",
   "nbconvert_exporter": "python",
   "pygments_lexer": "ipython3",
   "version": "3.10.7"
  }
 },
 "nbformat": 4,
 "nbformat_minor": 2
}
